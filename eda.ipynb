{
  "cells": [
    {
      "cell_type": "markdown",
      "source": [
        "# 1. Initialization"
      ],
      "metadata": {
        "id": "TCFVkL1hGbUj"
      }
    },
    {
      "cell_type": "markdown",
      "metadata": {
        "id": "UC8-yLUUCcWh"
      },
      "source": [
        "## Loading libraries"
      ]
    },
    {
      "cell_type": "code",
      "execution_count": 1,
      "metadata": {
        "id": "iixNDZWs1ZPL"
      },
      "outputs": [],
      "source": [
        "import os\n",
        "import warnings\n",
        "import re\n",
        "\n",
        "import numpy as np\n",
        "import pandas as pd\n",
        "import seaborn as sns\n",
        "import matplotlib.pyplot as plt\n",
        "\n",
        "USE_COLAB = True"
      ]
    },
    {
      "cell_type": "code",
      "execution_count": 2,
      "metadata": {
        "id": "M6X-EtlVH3TU",
        "colab": {
          "base_uri": "https://localhost:8080/"
        },
        "outputId": "ae087b1b-a642-422c-d477-9e1827ea9a35"
      },
      "outputs": [
        {
          "output_type": "stream",
          "name": "stdout",
          "text": [
            "Mounted at /content/drive\n"
          ]
        }
      ],
      "source": [
        "warnings.filterwarnings(\"ignore\")\n",
        "sns.set_theme(style=\"darkgrid\")\n",
        "\n",
        "if USE_COLAB:\n",
        "  # Mounting the drive\n",
        "  from google.colab import drive\n",
        "\n",
        "  drive.mount(\"/content/drive\", force_remount=True)"
      ]
    },
    {
      "cell_type": "code",
      "execution_count": 3,
      "metadata": {
        "id": "jA_3OnKO83iQ"
      },
      "outputs": [],
      "source": [
        "def read_file(filename):\n",
        "    base_dir = \"/content/drive/MyDrive/Datasets\" if USE_COLAB else os.getcwd()\n",
        "    file_dir = os.path.join(base_dir, filename)\n",
        "\n",
        "    return pd.read_csv(file_dir)\n"
      ]
    },
    {
      "cell_type": "code",
      "source": [
        "df = read_file(\"food_inspections.csv\")"
      ],
      "metadata": {
        "id": "dD4QhJ3eBVu2"
      },
      "execution_count": 4,
      "outputs": []
    },
    {
      "cell_type": "markdown",
      "source": [
        "# 2. Exploratory Data Analysis"
      ],
      "metadata": {
        "id": "pLRbjOBPGEOe"
      }
    },
    {
      "cell_type": "code",
      "source": [
        "df.head()"
      ],
      "metadata": {
        "colab": {
          "base_uri": "https://localhost:8080/",
          "height": 545
        },
        "id": "IHNsjkmZBsG2",
        "outputId": "445877f3-f9a1-4c7c-a1a6-1dae8cb96fef"
      },
      "execution_count": 5,
      "outputs": [
        {
          "output_type": "execute_result",
          "data": {
            "text/plain": [
              "   Inspection ID                 DBA Name                 AKA Name  License #  \\\n",
              "0        2079132  MARRIOT MARQUIS CHICAGO  MARRIOT MARQUIS CHICAGO  2517328.0   \n",
              "1        2079129              JET'S PIZZA              JET'S PIZZA  2522268.0   \n",
              "2        2079125                ROOM 1520                ROOM 1520  2446638.0   \n",
              "3        2079123  MARRIOT MARQUIS CHICAGO  MARRIOT MARQUIS CHICAGO  2517338.0   \n",
              "4        2079105               CHARTWELLS  CICS WEST BELDEN CAMPUS  2549079.0   \n",
              "\n",
              "    Facility Type             Risk               Address     City State  \\\n",
              "0      Restaurant    Risk 1 (High)   2121 S PRAIRIE AVE   CHICAGO    IL   \n",
              "1      Restaurant  Risk 2 (Medium)    1025 W MADISON ST   CHICAGO    IL   \n",
              "2   Special Event     Risk 3 (Low)     301 N JUSTINE ST   CHICAGO    IL   \n",
              "3      Restaurant    Risk 1 (High)   2121 S PRAIRIE AVE   CHICAGO    IL   \n",
              "4  CHARTER SCHOOL    Risk 1 (High)  2245 N MCVICKER AVE   CHICAGO    IL   \n",
              "\n",
              "       Zip Inspection Date        Inspection Type    Results  \\\n",
              "0  60616.0      08/28/2017                License       Pass   \n",
              "1  60607.0      08/28/2017                License  Not Ready   \n",
              "2  60607.0      08/28/2017  License Re-Inspection  Not Ready   \n",
              "3  60616.0      08/28/2017                License       Pass   \n",
              "4  60639.0      08/28/2017  License Re-Inspection       Pass   \n",
              "\n",
              "                                          Violations   Latitude  Longitude  \\\n",
              "0                                                NaN  41.853651 -87.620534   \n",
              "1                                                NaN  41.881572 -87.653052   \n",
              "2  8. SANITIZING RINSE FOR EQUIPMENT AND UTENSILS...  41.886577 -87.665328   \n",
              "3  35. WALLS, CEILINGS, ATTACHED EQUIPMENT CONSTR...  41.853651 -87.620534   \n",
              "4  18. NO EVIDENCE OF RODENT OR INSECT OUTER OPEN...  41.921675 -87.776711   \n",
              "\n",
              "                                   Location  \n",
              "0  (41.853650885040594, -87.62053358114167)  \n",
              "1   (41.88157249576794, -87.65305233593274)  \n",
              "2   (41.88657652150854, -87.66532812140231)  \n",
              "3  (41.853650885040594, -87.62053358114167)  \n",
              "4   (41.921675488910864, -87.7767113569357)  "
            ],
            "text/html": [
              "\n",
              "  <div id=\"df-27db1ae3-1b22-4ca3-8d38-72bc7887c407\">\n",
              "    <div class=\"colab-df-container\">\n",
              "      <div>\n",
              "<style scoped>\n",
              "    .dataframe tbody tr th:only-of-type {\n",
              "        vertical-align: middle;\n",
              "    }\n",
              "\n",
              "    .dataframe tbody tr th {\n",
              "        vertical-align: top;\n",
              "    }\n",
              "\n",
              "    .dataframe thead th {\n",
              "        text-align: right;\n",
              "    }\n",
              "</style>\n",
              "<table border=\"1\" class=\"dataframe\">\n",
              "  <thead>\n",
              "    <tr style=\"text-align: right;\">\n",
              "      <th></th>\n",
              "      <th>Inspection ID</th>\n",
              "      <th>DBA Name</th>\n",
              "      <th>AKA Name</th>\n",
              "      <th>License #</th>\n",
              "      <th>Facility Type</th>\n",
              "      <th>Risk</th>\n",
              "      <th>Address</th>\n",
              "      <th>City</th>\n",
              "      <th>State</th>\n",
              "      <th>Zip</th>\n",
              "      <th>Inspection Date</th>\n",
              "      <th>Inspection Type</th>\n",
              "      <th>Results</th>\n",
              "      <th>Violations</th>\n",
              "      <th>Latitude</th>\n",
              "      <th>Longitude</th>\n",
              "      <th>Location</th>\n",
              "    </tr>\n",
              "  </thead>\n",
              "  <tbody>\n",
              "    <tr>\n",
              "      <th>0</th>\n",
              "      <td>2079132</td>\n",
              "      <td>MARRIOT MARQUIS CHICAGO</td>\n",
              "      <td>MARRIOT MARQUIS CHICAGO</td>\n",
              "      <td>2517328.0</td>\n",
              "      <td>Restaurant</td>\n",
              "      <td>Risk 1 (High)</td>\n",
              "      <td>2121 S PRAIRIE AVE</td>\n",
              "      <td>CHICAGO</td>\n",
              "      <td>IL</td>\n",
              "      <td>60616.0</td>\n",
              "      <td>08/28/2017</td>\n",
              "      <td>License</td>\n",
              "      <td>Pass</td>\n",
              "      <td>NaN</td>\n",
              "      <td>41.853651</td>\n",
              "      <td>-87.620534</td>\n",
              "      <td>(41.853650885040594, -87.62053358114167)</td>\n",
              "    </tr>\n",
              "    <tr>\n",
              "      <th>1</th>\n",
              "      <td>2079129</td>\n",
              "      <td>JET'S PIZZA</td>\n",
              "      <td>JET'S PIZZA</td>\n",
              "      <td>2522268.0</td>\n",
              "      <td>Restaurant</td>\n",
              "      <td>Risk 2 (Medium)</td>\n",
              "      <td>1025 W MADISON ST</td>\n",
              "      <td>CHICAGO</td>\n",
              "      <td>IL</td>\n",
              "      <td>60607.0</td>\n",
              "      <td>08/28/2017</td>\n",
              "      <td>License</td>\n",
              "      <td>Not Ready</td>\n",
              "      <td>NaN</td>\n",
              "      <td>41.881572</td>\n",
              "      <td>-87.653052</td>\n",
              "      <td>(41.88157249576794, -87.65305233593274)</td>\n",
              "    </tr>\n",
              "    <tr>\n",
              "      <th>2</th>\n",
              "      <td>2079125</td>\n",
              "      <td>ROOM 1520</td>\n",
              "      <td>ROOM 1520</td>\n",
              "      <td>2446638.0</td>\n",
              "      <td>Special Event</td>\n",
              "      <td>Risk 3 (Low)</td>\n",
              "      <td>301 N JUSTINE ST</td>\n",
              "      <td>CHICAGO</td>\n",
              "      <td>IL</td>\n",
              "      <td>60607.0</td>\n",
              "      <td>08/28/2017</td>\n",
              "      <td>License Re-Inspection</td>\n",
              "      <td>Not Ready</td>\n",
              "      <td>8. SANITIZING RINSE FOR EQUIPMENT AND UTENSILS...</td>\n",
              "      <td>41.886577</td>\n",
              "      <td>-87.665328</td>\n",
              "      <td>(41.88657652150854, -87.66532812140231)</td>\n",
              "    </tr>\n",
              "    <tr>\n",
              "      <th>3</th>\n",
              "      <td>2079123</td>\n",
              "      <td>MARRIOT MARQUIS CHICAGO</td>\n",
              "      <td>MARRIOT MARQUIS CHICAGO</td>\n",
              "      <td>2517338.0</td>\n",
              "      <td>Restaurant</td>\n",
              "      <td>Risk 1 (High)</td>\n",
              "      <td>2121 S PRAIRIE AVE</td>\n",
              "      <td>CHICAGO</td>\n",
              "      <td>IL</td>\n",
              "      <td>60616.0</td>\n",
              "      <td>08/28/2017</td>\n",
              "      <td>License</td>\n",
              "      <td>Pass</td>\n",
              "      <td>35. WALLS, CEILINGS, ATTACHED EQUIPMENT CONSTR...</td>\n",
              "      <td>41.853651</td>\n",
              "      <td>-87.620534</td>\n",
              "      <td>(41.853650885040594, -87.62053358114167)</td>\n",
              "    </tr>\n",
              "    <tr>\n",
              "      <th>4</th>\n",
              "      <td>2079105</td>\n",
              "      <td>CHARTWELLS</td>\n",
              "      <td>CICS WEST BELDEN CAMPUS</td>\n",
              "      <td>2549079.0</td>\n",
              "      <td>CHARTER SCHOOL</td>\n",
              "      <td>Risk 1 (High)</td>\n",
              "      <td>2245 N MCVICKER AVE</td>\n",
              "      <td>CHICAGO</td>\n",
              "      <td>IL</td>\n",
              "      <td>60639.0</td>\n",
              "      <td>08/28/2017</td>\n",
              "      <td>License Re-Inspection</td>\n",
              "      <td>Pass</td>\n",
              "      <td>18. NO EVIDENCE OF RODENT OR INSECT OUTER OPEN...</td>\n",
              "      <td>41.921675</td>\n",
              "      <td>-87.776711</td>\n",
              "      <td>(41.921675488910864, -87.7767113569357)</td>\n",
              "    </tr>\n",
              "  </tbody>\n",
              "</table>\n",
              "</div>\n",
              "      <button class=\"colab-df-convert\" onclick=\"convertToInteractive('df-27db1ae3-1b22-4ca3-8d38-72bc7887c407')\"\n",
              "              title=\"Convert this dataframe to an interactive table.\"\n",
              "              style=\"display:none;\">\n",
              "        \n",
              "  <svg xmlns=\"http://www.w3.org/2000/svg\" height=\"24px\"viewBox=\"0 0 24 24\"\n",
              "       width=\"24px\">\n",
              "    <path d=\"M0 0h24v24H0V0z\" fill=\"none\"/>\n",
              "    <path d=\"M18.56 5.44l.94 2.06.94-2.06 2.06-.94-2.06-.94-.94-2.06-.94 2.06-2.06.94zm-11 1L8.5 8.5l.94-2.06 2.06-.94-2.06-.94L8.5 2.5l-.94 2.06-2.06.94zm10 10l.94 2.06.94-2.06 2.06-.94-2.06-.94-.94-2.06-.94 2.06-2.06.94z\"/><path d=\"M17.41 7.96l-1.37-1.37c-.4-.4-.92-.59-1.43-.59-.52 0-1.04.2-1.43.59L10.3 9.45l-7.72 7.72c-.78.78-.78 2.05 0 2.83L4 21.41c.39.39.9.59 1.41.59.51 0 1.02-.2 1.41-.59l7.78-7.78 2.81-2.81c.8-.78.8-2.07 0-2.86zM5.41 20L4 18.59l7.72-7.72 1.47 1.35L5.41 20z\"/>\n",
              "  </svg>\n",
              "      </button>\n",
              "      \n",
              "  <style>\n",
              "    .colab-df-container {\n",
              "      display:flex;\n",
              "      flex-wrap:wrap;\n",
              "      gap: 12px;\n",
              "    }\n",
              "\n",
              "    .colab-df-convert {\n",
              "      background-color: #E8F0FE;\n",
              "      border: none;\n",
              "      border-radius: 50%;\n",
              "      cursor: pointer;\n",
              "      display: none;\n",
              "      fill: #1967D2;\n",
              "      height: 32px;\n",
              "      padding: 0 0 0 0;\n",
              "      width: 32px;\n",
              "    }\n",
              "\n",
              "    .colab-df-convert:hover {\n",
              "      background-color: #E2EBFA;\n",
              "      box-shadow: 0px 1px 2px rgba(60, 64, 67, 0.3), 0px 1px 3px 1px rgba(60, 64, 67, 0.15);\n",
              "      fill: #174EA6;\n",
              "    }\n",
              "\n",
              "    [theme=dark] .colab-df-convert {\n",
              "      background-color: #3B4455;\n",
              "      fill: #D2E3FC;\n",
              "    }\n",
              "\n",
              "    [theme=dark] .colab-df-convert:hover {\n",
              "      background-color: #434B5C;\n",
              "      box-shadow: 0px 1px 3px 1px rgba(0, 0, 0, 0.15);\n",
              "      filter: drop-shadow(0px 1px 2px rgba(0, 0, 0, 0.3));\n",
              "      fill: #FFFFFF;\n",
              "    }\n",
              "  </style>\n",
              "\n",
              "      <script>\n",
              "        const buttonEl =\n",
              "          document.querySelector('#df-27db1ae3-1b22-4ca3-8d38-72bc7887c407 button.colab-df-convert');\n",
              "        buttonEl.style.display =\n",
              "          google.colab.kernel.accessAllowed ? 'block' : 'none';\n",
              "\n",
              "        async function convertToInteractive(key) {\n",
              "          const element = document.querySelector('#df-27db1ae3-1b22-4ca3-8d38-72bc7887c407');\n",
              "          const dataTable =\n",
              "            await google.colab.kernel.invokeFunction('convertToInteractive',\n",
              "                                                     [key], {});\n",
              "          if (!dataTable) return;\n",
              "\n",
              "          const docLinkHtml = 'Like what you see? Visit the ' +\n",
              "            '<a target=\"_blank\" href=https://colab.research.google.com/notebooks/data_table.ipynb>data table notebook</a>'\n",
              "            + ' to learn more about interactive tables.';\n",
              "          element.innerHTML = '';\n",
              "          dataTable['output_type'] = 'display_data';\n",
              "          await google.colab.output.renderOutput(dataTable, element);\n",
              "          const docLink = document.createElement('div');\n",
              "          docLink.innerHTML = docLinkHtml;\n",
              "          element.appendChild(docLink);\n",
              "        }\n",
              "      </script>\n",
              "    </div>\n",
              "  </div>\n",
              "  "
            ]
          },
          "metadata": {},
          "execution_count": 5
        }
      ]
    },
    {
      "cell_type": "code",
      "source": [
        "df.info()"
      ],
      "metadata": {
        "colab": {
          "base_uri": "https://localhost:8080/"
        },
        "id": "Y4ErrobeB62q",
        "outputId": "54b47790-20dc-4a11-a92b-0e611601fbae"
      },
      "execution_count": 6,
      "outputs": [
        {
          "output_type": "stream",
          "name": "stdout",
          "text": [
            "<class 'pandas.core.frame.DataFrame'>\n",
            "RangeIndex: 153810 entries, 0 to 153809\n",
            "Data columns (total 17 columns):\n",
            " #   Column           Non-Null Count   Dtype  \n",
            "---  ------           --------------   -----  \n",
            " 0   Inspection ID    153810 non-null  int64  \n",
            " 1   DBA Name         153810 non-null  object \n",
            " 2   AKA Name         151267 non-null  object \n",
            " 3   License #        153795 non-null  float64\n",
            " 4   Facility Type    149250 non-null  object \n",
            " 5   Risk             153744 non-null  object \n",
            " 6   Address          153810 non-null  object \n",
            " 7   City             153651 non-null  object \n",
            " 8   State            153802 non-null  object \n",
            " 9   Zip              153712 non-null  float64\n",
            " 10  Inspection Date  153810 non-null  object \n",
            " 11  Inspection Type  153809 non-null  object \n",
            " 12  Results          153810 non-null  object \n",
            " 13  Violations       123012 non-null  object \n",
            " 14  Latitude         153266 non-null  float64\n",
            " 15  Longitude        153266 non-null  float64\n",
            " 16  Location         153266 non-null  object \n",
            "dtypes: float64(4), int64(1), object(12)\n",
            "memory usage: 19.9+ MB\n"
          ]
        }
      ]
    },
    {
      "cell_type": "code",
      "source": [
        "df.isna().sum()"
      ],
      "metadata": {
        "colab": {
          "base_uri": "https://localhost:8080/"
        },
        "id": "nq3jrTFlCNrK",
        "outputId": "bb167fd4-6e51-4a91-d257-7d253aafcadd"
      },
      "execution_count": 7,
      "outputs": [
        {
          "output_type": "execute_result",
          "data": {
            "text/plain": [
              "Inspection ID          0\n",
              "DBA Name               0\n",
              "AKA Name            2543\n",
              "License #             15\n",
              "Facility Type       4560\n",
              "Risk                  66\n",
              "Address                0\n",
              "City                 159\n",
              "State                  8\n",
              "Zip                   98\n",
              "Inspection Date        0\n",
              "Inspection Type        1\n",
              "Results                0\n",
              "Violations         30798\n",
              "Latitude             544\n",
              "Longitude            544\n",
              "Location             544\n",
              "dtype: int64"
            ]
          },
          "metadata": {},
          "execution_count": 7
        }
      ]
    },
    {
      "cell_type": "code",
      "source": [
        "df.nunique()"
      ],
      "metadata": {
        "colab": {
          "base_uri": "https://localhost:8080/"
        },
        "id": "KDffRjXaB1xV",
        "outputId": "117767d8-d491-4102-df21-e1b8c8cacf84"
      },
      "execution_count": 8,
      "outputs": [
        {
          "output_type": "execute_result",
          "data": {
            "text/plain": [
              "Inspection ID      153810\n",
              "DBA Name            24685\n",
              "AKA Name            23591\n",
              "License #           32850\n",
              "Facility Type         447\n",
              "Risk                    4\n",
              "Address             17017\n",
              "City                   57\n",
              "State                   1\n",
              "Zip                   100\n",
              "Inspection Date      1946\n",
              "Inspection Type       108\n",
              "Results                 7\n",
              "Violations         121916\n",
              "Latitude            15908\n",
              "Longitude           15908\n",
              "Location            15908\n",
              "dtype: int64"
            ]
          },
          "metadata": {},
          "execution_count": 8
        }
      ]
    },
    {
      "cell_type": "code",
      "source": [
        "df[\"City\"].value_counts().head(10)"
      ],
      "metadata": {
        "colab": {
          "base_uri": "https://localhost:8080/"
        },
        "id": "_uslVmN3Ejvv",
        "outputId": "1b07004c-faf7-4f76-a63d-ec7e75e89e53"
      },
      "execution_count": 9,
      "outputs": [
        {
          "output_type": "execute_result",
          "data": {
            "text/plain": [
              "CHICAGO              153090\n",
              "Chicago                 258\n",
              "chicago                  77\n",
              "CCHICAGO                 39\n",
              "SCHAUMBURG               18\n",
              "MAYWOOD                  14\n",
              "ELK GROVE VILLAGE        12\n",
              "CHicago                  10\n",
              "SKOKIE                    8\n",
              "INACTIVE                  8\n",
              "Name: City, dtype: int64"
            ]
          },
          "metadata": {},
          "execution_count": 9
        }
      ]
    },
    {
      "cell_type": "code",
      "source": [
        "df[\"Inspection Date\"].str.match(\n",
        "    r\"^(0?[1-9]|1[012])(\\/)(0?[1-9]|[12]\\d|3[01])\\2(\\d{4})$\" # US Date Format\n",
        ").sum()"
      ],
      "metadata": {
        "colab": {
          "base_uri": "https://localhost:8080/"
        },
        "id": "74mn5TOqlcw_",
        "outputId": "59ed4115-5fd0-4a1f-8107-3eaa739ee675"
      },
      "execution_count": 10,
      "outputs": [
        {
          "output_type": "execute_result",
          "data": {
            "text/plain": [
              "153810"
            ]
          },
          "metadata": {},
          "execution_count": 10
        }
      ]
    },
    {
      "cell_type": "code",
      "source": [
        "df[\"Expected Location\"] = df[\"Latitude\"].dropna().round(7).astype(str) + \",\" + df[\"Longitude\"].dropna().round(7).astype(str)\n",
        "df[\"Rounded Location\"] = df[\"Location\"].dropna().astype(str).apply(lambda loc: ','.join(map(lambda coord: str(round(float(coord), 7)), re.sub(r'[\\(\\)]', '', loc).split(','))))"
      ],
      "metadata": {
        "id": "9jLLXR-JVVqL"
      },
      "execution_count": 11,
      "outputs": []
    },
    {
      "cell_type": "code",
      "source": [
        "df.dropna()[df[\"Expected Location\"] != df[\"Rounded Location\"]].count()"
      ],
      "metadata": {
        "colab": {
          "base_uri": "https://localhost:8080/"
        },
        "id": "W9tIZVraV8e0",
        "outputId": "d889f65d-85a1-446e-d201-e076fd55bbfa"
      },
      "execution_count": 12,
      "outputs": [
        {
          "output_type": "execute_result",
          "data": {
            "text/plain": [
              "Inspection ID        0\n",
              "DBA Name             0\n",
              "AKA Name             0\n",
              "License #            0\n",
              "Facility Type        0\n",
              "Risk                 0\n",
              "Address              0\n",
              "City                 0\n",
              "State                0\n",
              "Zip                  0\n",
              "Inspection Date      0\n",
              "Inspection Type      0\n",
              "Results              0\n",
              "Violations           0\n",
              "Latitude             0\n",
              "Longitude            0\n",
              "Location             0\n",
              "Expected Location    0\n",
              "Rounded Location     0\n",
              "dtype: int64"
            ]
          },
          "metadata": {},
          "execution_count": 12
        }
      ]
    },
    {
      "cell_type": "code",
      "source": [
        "df[df[\"Location\"].isna()][['City', 'State', 'Zip']].isna().sum()"
      ],
      "metadata": {
        "colab": {
          "base_uri": "https://localhost:8080/"
        },
        "id": "shLIUSo9ziax",
        "outputId": "2bfafb00-ba40-4d14-dc0f-4a0f8890696b"
      },
      "execution_count": 13,
      "outputs": [
        {
          "output_type": "execute_result",
          "data": {
            "text/plain": [
              "City      7\n",
              "State     0\n",
              "Zip      10\n",
              "dtype: int64"
            ]
          },
          "metadata": {},
          "execution_count": 13
        }
      ]
    },
    {
      "cell_type": "code",
      "source": [
        "df[(df[\"City\"].isna()) | (df[\"Zip\"].isna())]['Location'].isna().sum()"
      ],
      "metadata": {
        "colab": {
          "base_uri": "https://localhost:8080/"
        },
        "id": "rJeCSiW80Vq-",
        "outputId": "b0314fef-1cb9-464b-f599-0af1239c4d36"
      },
      "execution_count": 14,
      "outputs": [
        {
          "output_type": "execute_result",
          "data": {
            "text/plain": [
              "10"
            ]
          },
          "metadata": {},
          "execution_count": 14
        }
      ]
    },
    {
      "cell_type": "code",
      "source": [
        "for col in df.select_dtypes(include=['int16', 'int32', 'int64', 'float16', 'float32', 'float64']).columns:\n",
        "    print(col)\n",
        "    print(\"Skew :\", round(df[col].skew(), 2))\n",
        "    plt.figure(figsize=(15, 4))\n",
        "    plt.subplot(1, 2, 1)\n",
        "    df[col].hist()\n",
        "    plt.ylabel(\"count\")\n",
        "    plt.subplot(1, 2, 2)\n",
        "    sns.boxplot(x=df[col])\n",
        "    plt.show()"
      ],
      "metadata": {
        "id": "hNdbJupgDB-4",
        "colab": {
          "base_uri": "https://localhost:8080/",
          "height": 1000
        },
        "outputId": "66993bd9-9e3e-4e58-aaae-ecebf8e4e54b"
      },
      "execution_count": 15,
      "outputs": [
        {
          "output_type": "stream",
          "name": "stdout",
          "text": [
            "Inspection ID\n",
            "Skew : -0.5\n"
          ]
        },
        {
          "output_type": "display_data",
          "data": {
            "text/plain": [
              "<Figure size 1080x288 with 2 Axes>"
            ],
            "image/png": "[encoded data removed]"
          },
          "metadata": {}
        },
        {
          "output_type": "stream",
          "name": "stdout",
          "text": [
            "License #\n",
            "Skew : -0.82\n"
          ]
        },
        {
          "output_type": "display_data",
          "data": {
            "text/plain": [
              "<Figure size 1080x288 with 2 Axes>"
            ],
            "image/png": "[encoded data removed]"
          },
          "metadata": {}
        },
        {
          "output_type": "stream",
          "name": "stdout",
          "text": [
            "Zip\n",
            "Skew : -5.39\n"
          ]
        },
        {
          "output_type": "display_data",
          "data": {
            "text/plain": [
              "<Figure size 1080x288 with 2 Axes>"
            ],
            "image/png": "[encoded data removed]"
          },
          "metadata": {}
        },
        {
          "output_type": "stream",
          "name": "stdout",
          "text": [
            "Latitude\n",
            "Skew : -0.57\n"
          ]
        },
        {
          "output_type": "display_data",
          "data": {
            "text/plain": [
              "<Figure size 1080x288 with 2 Axes>"
            ],
            "image/png": "[encoded data removed]"
          },
          "metadata": {}
        },
        {
          "output_type": "stream",
          "name": "stdout",
          "text": [
            "Longitude\n",
            "Skew : -1.01\n"
          ]
        },
        {
          "output_type": "display_data",
          "data": {
            "text/plain": [
              "<Figure size 1080x288 with 2 Axes>"
            ],
            "image/png": "[encoded data removed]"
          },
          "metadata": {}
        }
      ]
    }
  ],
  "metadata": {
    "colab": {
      "collapsed_sections": [
        "TCFVkL1hGbUj"
      ],
      "machine_shape": "hm",
      "name": "notebook.ipynb",
      "provenance": [],
      "background_execution": "on"
    },
    "kernelspec": {
      "display_name": "Python 3 (ipykernel)",
      "language": "python",
      "name": "python3"
    },
    "language_info": {
      "codemirror_mode": {
        "name": "ipython",
        "version": 3
      },
      "file_extension": ".py",
      "mimetype": "text/x-python",
      "name": "python",
      "nbconvert_exporter": "python",
      "pygments_lexer": "ipython3",
      "version": "3.9.7"
    },
    "accelerator": "GPU"
  },
  "nbformat": 4,
  "nbformat_minor": 0
}